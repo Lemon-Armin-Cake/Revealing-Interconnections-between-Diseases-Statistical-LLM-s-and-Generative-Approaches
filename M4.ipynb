{
 "cells": [
  {
   "cell_type": "markdown",
   "metadata": {},
   "source": [
    "# Estimating Probabilities of ICD Code Associations Using LLM\n",
    "\n",
    "This notebook aims to build a table that reflects the likelihood of one ICD code being followed by another, based on answers from a large language model (LLM).  \n",
    "The idea is to take pairs of ICD codes, create carefully phrased prompts, and let the model estimate the probability of their sequential occurrence in a patient's medical history.  \n",
    "\n",
    "The resulting probability table can be used to explore potential relationships between diseases, which may help in identifying patterns not immediately visible through traditional statistical analysis."
   ]
  },
  {
   "cell_type": "code",
   "execution_count": null,
   "metadata": {
    "_cell_guid": "b1076dfc-b9ad-4769-8c92-a6c4dae69d19",
    "_uuid": "8f2839f25d086af736a60e9eeb907d3b93b6e0e5",
    "execution": {
     "iopub.execute_input": "2025-07-23T21:59:57.157829Z",
     "iopub.status.busy": "2025-07-23T21:59:57.157150Z",
     "iopub.status.idle": "2025-07-23T22:01:29.205821Z",
     "shell.execute_reply": "2025-07-23T22:01:29.204801Z",
     "shell.execute_reply.started": "2025-07-23T21:59:57.157801Z"
    },
    "trusted": true
   },
   "outputs": [
    {
     "name": "stdout",
     "output_type": "stream",
     "text": [
      "\u001b[2K   \u001b[90m━━━━━━━━━━━━━━━━━━━━━━━━━━━━━━━━━━━━━━━━\u001b[0m \u001b[32m72.9/72.9 MB\u001b[0m \u001b[31m23.1 MB/s\u001b[0m eta \u001b[36m0:00:00\u001b[0m:00:01\u001b[0m00:01\u001b[0m\n",
      "\u001b[2K   \u001b[90m━━━━━━━━━━━━━━━━━━━━━━━━━━━━━━━━━━━━━━━━\u001b[0m \u001b[32m363.4/363.4 MB\u001b[0m \u001b[31m4.5 MB/s\u001b[0m eta \u001b[36m0:00:00\u001b[0m:00:01\u001b[0m00:01\u001b[0m\n",
      "\u001b[2K   \u001b[90m━━━━━━━━━━━━━━━━━━━━━━━━━━━━━━━━━━━━━━━━\u001b[0m \u001b[32m13.8/13.8 MB\u001b[0m \u001b[31m67.6 MB/s\u001b[0m eta \u001b[36m0:00:00\u001b[0m:00:01\u001b[0m00:01\u001b[0m\n",
      "\u001b[2K   \u001b[90m━━━━━━━━━━━━━━━━━━━━━━━━━━━━━━━━━━━━━━━━\u001b[0m \u001b[32m24.6/24.6 MB\u001b[0m \u001b[31m68.7 MB/s\u001b[0m eta \u001b[36m0:00:00\u001b[0m:00:01\u001b[0m00:01\u001b[0m\n",
      "\u001b[2K   \u001b[90m━━━━━━━━━━━━━━━━━━━━━━━━━━━━━━━━━━━━━━━━\u001b[0m \u001b[32m883.7/883.7 kB\u001b[0m \u001b[31m39.3 MB/s\u001b[0m eta \u001b[36m0:00:00\u001b[0m\n",
      "\u001b[2K   \u001b[90m━━━━━━━━━━━━━━━━━━━━━━━━━━━━━━━━━━━━━━━━\u001b[0m \u001b[32m664.8/664.8 MB\u001b[0m \u001b[31m2.1 MB/s\u001b[0m eta \u001b[36m0:00:00\u001b[0m:00:01\u001b[0m00:01\u001b[0m\n",
      "\u001b[2K   \u001b[90m━━━━━━━━━━━━━━━━━━━━━━━━━━━━━━━━━━━━━━━━\u001b[0m \u001b[32m211.5/211.5 MB\u001b[0m \u001b[31m2.1 MB/s\u001b[0m eta \u001b[36m0:00:00\u001b[0m:00:01\u001b[0m00:01\u001b[0m\n",
      "\u001b[2K   \u001b[90m━━━━━━━━━━━━━━━━━━━━━━━━━━━━━━━━━━━━━━━━\u001b[0m \u001b[32m56.3/56.3 MB\u001b[0m \u001b[31m9.5 MB/s\u001b[0m eta \u001b[36m0:00:00\u001b[0m0:00:01\u001b[0m00:01\u001b[0m\n",
      "\u001b[2K   \u001b[90m━━━━━━━━━━━━━━━━━━━━━━━━━━━━━━━━━━━━━━━━\u001b[0m \u001b[32m127.9/127.9 MB\u001b[0m \u001b[31m12.5 MB/s\u001b[0m eta \u001b[36m0:00:00\u001b[0m00:01\u001b[0m00:01\u001b[0m\n",
      "\u001b[2K   \u001b[90m━━━━━━━━━━━━━━━━━━━━━━━━━━━━━━━━━━━━━━━━\u001b[0m \u001b[32m207.5/207.5 MB\u001b[0m \u001b[31m8.0 MB/s\u001b[0m eta \u001b[36m0:00:00\u001b[0m:00:01\u001b[0m00:01\u001b[0m\n",
      "\u001b[2K   \u001b[90m━━━━━━━━━━━━━━━━━━━━━━━━━━━━━━━━━━━━━━━━\u001b[0m \u001b[32m21.1/21.1 MB\u001b[0m \u001b[31m63.0 MB/s\u001b[0m eta \u001b[36m0:00:00\u001b[0m:00:01\u001b[0m00:01\u001b[0m\n",
      "\u001b[?25h"
     ]
    }
   ],
   "source": [
    "!pip install -q transformers accelerate bitsandbytes\n",
    "!pip install -q huggingface_hub"
   ]
  },
  {
   "cell_type": "code",
   "execution_count": null,
   "metadata": {},
   "outputs": [],
   "source": [
    "import torch, re\n",
    "import pandas as pd\n",
    "from itertools import product\n",
    "from transformers import AutoTokenizer, AutoModelForCausalLM\n",
    "from tqdm import tqdm\n",
    "\n",
    "from huggingface_hub import login\n",
    "login('your_token')     # you can get it here: https://huggingface.co/mistralai/Mistral-7B-v0.1"
   ]
  },
  {
   "cell_type": "code",
   "execution_count": null,
   "metadata": {
    "execution": {
     "iopub.execute_input": "2025-07-23T22:01:56.101651Z",
     "iopub.status.busy": "2025-07-23T22:01:56.101144Z",
     "iopub.status.idle": "2025-07-23T22:05:14.413515Z",
     "shell.execute_reply": "2025-07-23T22:05:14.412870Z",
     "shell.execute_reply.started": "2025-07-23T22:01:56.101620Z"
    },
    "trusted": true
   },
   "outputs": [
    {
     "data": {
      "application/vnd.jupyter.widget-view+json": {
       "model_id": "28bc0de1e202415c9ba77d832ba9ce74",
       "version_major": 2,
       "version_minor": 0
      },
      "text/plain": [
       "tokenizer_config.json:   0%|          | 0.00/2.10k [00:00<?, ?B/s]"
      ]
     },
     "metadata": {},
     "output_type": "display_data"
    },
    {
     "data": {
      "application/vnd.jupyter.widget-view+json": {
       "model_id": "ac95da5cc8e34fbeb200c5e32e4a589f",
       "version_major": 2,
       "version_minor": 0
      },
      "text/plain": [
       "tokenizer.model:   0%|          | 0.00/493k [00:00<?, ?B/s]"
      ]
     },
     "metadata": {},
     "output_type": "display_data"
    },
    {
     "data": {
      "application/vnd.jupyter.widget-view+json": {
       "model_id": "3fcc50769ea54f2cb0c8d1ac2a68af30",
       "version_major": 2,
       "version_minor": 0
      },
      "text/plain": [
       "tokenizer.json:   0%|          | 0.00/1.80M [00:00<?, ?B/s]"
      ]
     },
     "metadata": {},
     "output_type": "display_data"
    },
    {
     "data": {
      "application/vnd.jupyter.widget-view+json": {
       "model_id": "3141516d9ae345e9a324da23bbcce635",
       "version_major": 2,
       "version_minor": 0
      },
      "text/plain": [
       "special_tokens_map.json:   0%|          | 0.00/414 [00:00<?, ?B/s]"
      ]
     },
     "metadata": {},
     "output_type": "display_data"
    },
    {
     "data": {
      "application/vnd.jupyter.widget-view+json": {
       "model_id": "c3639d7509a14391a9c79a39f671c741",
       "version_major": 2,
       "version_minor": 0
      },
      "text/plain": [
       "config.json:   0%|          | 0.00/571 [00:00<?, ?B/s]"
      ]
     },
     "metadata": {},
     "output_type": "display_data"
    },
    {
     "name": "stderr",
     "output_type": "stream",
     "text": [
      "2025-07-23 22:02:20.206261: E external/local_xla/xla/stream_executor/cuda/cuda_fft.cc:477] Unable to register cuFFT factory: Attempting to register factory for plugin cuFFT when one has already been registered\n",
      "WARNING: All log messages before absl::InitializeLog() is called are written to STDERR\n",
      "E0000 00:00:1753308140.559214      36 cuda_dnn.cc:8310] Unable to register cuDNN factory: Attempting to register factory for plugin cuDNN when one has already been registered\n",
      "E0000 00:00:1753308140.655768      36 cuda_blas.cc:1418] Unable to register cuBLAS factory: Attempting to register factory for plugin cuBLAS when one has already been registered\n"
     ]
    },
    {
     "data": {
      "application/vnd.jupyter.widget-view+json": {
       "model_id": "0ea62561f7894d03bed6507ad5180221",
       "version_major": 2,
       "version_minor": 0
      },
      "text/plain": [
       "model.safetensors.index.json:   0%|          | 0.00/25.1k [00:00<?, ?B/s]"
      ]
     },
     "metadata": {},
     "output_type": "display_data"
    },
    {
     "data": {
      "application/vnd.jupyter.widget-view+json": {
       "model_id": "e4654c7fc6a743cc8195ddc444ce1767",
       "version_major": 2,
       "version_minor": 0
      },
      "text/plain": [
       "Fetching 2 files:   0%|          | 0/2 [00:00<?, ?it/s]"
      ]
     },
     "metadata": {},
     "output_type": "display_data"
    },
    {
     "data": {
      "application/vnd.jupyter.widget-view+json": {
       "model_id": "171affce1f974b6987e884b1bd2be06f",
       "version_major": 2,
       "version_minor": 0
      },
      "text/plain": [
       "model-00002-of-00002.safetensors:   0%|          | 0.00/4.54G [00:00<?, ?B/s]"
      ]
     },
     "metadata": {},
     "output_type": "display_data"
    },
    {
     "data": {
      "application/vnd.jupyter.widget-view+json": {
       "model_id": "9d4e69cf8f35420e865f5f1fd7a0b97a",
       "version_major": 2,
       "version_minor": 0
      },
      "text/plain": [
       "model-00001-of-00002.safetensors:   0%|          | 0.00/9.94G [00:00<?, ?B/s]"
      ]
     },
     "metadata": {},
     "output_type": "display_data"
    },
    {
     "data": {
      "application/vnd.jupyter.widget-view+json": {
       "model_id": "88e192fc48bd47ebbd3b3a3e9c7cb4cf",
       "version_major": 2,
       "version_minor": 0
      },
      "text/plain": [
       "Loading checkpoint shards:   0%|          | 0/2 [00:00<?, ?it/s]"
      ]
     },
     "metadata": {},
     "output_type": "display_data"
    },
    {
     "data": {
      "application/vnd.jupyter.widget-view+json": {
       "model_id": "92b5bfacd61b4fb2853ac193df84d344",
       "version_major": 2,
       "version_minor": 0
      },
      "text/plain": [
       "generation_config.json:   0%|          | 0.00/116 [00:00<?, ?B/s]"
      ]
     },
     "metadata": {},
     "output_type": "display_data"
    }
   ],
   "source": [
    "model_name = \"mistralai/Mistral-7B-Instruct-v0.1\"\n",
    "tokenizer = AutoTokenizer.from_pretrained(model_name)\n",
    "\n",
    "model = AutoModelForCausalLM.from_pretrained(\n",
    "    model_name,\n",
    "    device_map=\"auto\",\n",
    "    torch_dtype=torch.float16\n",
    ")"
   ]
  },
  {
   "cell_type": "code",
   "execution_count": null,
   "metadata": {
    "execution": {
     "iopub.execute_input": "2025-07-23T22:20:33.950629Z",
     "iopub.status.busy": "2025-07-23T22:20:33.949841Z",
     "iopub.status.idle": "2025-07-23T22:20:34.289553Z",
     "shell.execute_reply": "2025-07-23T22:20:34.288916Z",
     "shell.execute_reply.started": "2025-07-23T22:20:33.950594Z"
    },
    "trusted": true
   },
   "outputs": [
    {
     "name": "stdout",
     "output_type": "stream",
     "text": [
      "50\n"
     ]
    }
   ],
   "source": [
    "# test request\n",
    "prompt = \"[INST] Гипотетически какова вероятность (в процентах) того, что диагноз гипертония будет поставлен у пациента ПОСЛЕ диагноза ожирение. Ответь ТОЛЬКО одним числом от 0 до 100. [/INST]\"\n",
    "inputs = tokenizer(prompt, return_tensors=\"pt\").to(model.device)\n",
    "\n",
    "input_len = inputs[\"input_ids\"].shape[1]\n",
    "outputs = model.generate(**inputs, max_new_tokens=100, pad_token_id=tokenizer.eos_token_id)\n",
    "print(tokenizer.decode(outputs[0][input_len:], skip_special_tokens=True))"
   ]
  },
  {
   "cell_type": "code",
   "execution_count": null,
   "metadata": {
    "execution": {
     "iopub.execute_input": "2025-07-23T22:24:38.049856Z",
     "iopub.status.busy": "2025-07-23T22:24:38.049550Z",
     "iopub.status.idle": "2025-07-23T22:24:38.661337Z",
     "shell.execute_reply": "2025-07-23T22:24:38.660787Z",
     "shell.execute_reply.started": "2025-07-23T22:24:38.049833Z"
    },
    "trusted": true
   },
   "outputs": [],
   "source": [
    "df_i = pd.read_excel(\"/kaggle/input/smiles-diseases-interconnections/cancer_icd3_codes.xlsx\")  # load file with cancer codes: ICD_i, strings\n",
    "df_j = pd.read_excel(\"/kaggle/input/smiles-diseases-interconnections/all_icd3_codes.xlsx\") # load file with all codes: ICD_j, columns\n",
    "df_names = pd.read_csv(\"/kaggle/input/smiles-diseases-interconnections/d_icd_diagnoses.csv\") # load \"ICD code - disease name\" correspondence file \n",
    "                                                                                            # to make the query more human\n",
    "\n",
    "code_to_name = df_names.set_index(\"icd_code\")[\"long_title\"].astype(str).to_dict()\n",
    "\n",
    "codes_i = df_i[\"icd3\"].astype(str).tolist()\n",
    "codes_j = df_j[\"icd3\"].astype(str).tolist()\n",
    "\n",
    "# Generate all possible pairs of ICD codes for querying the LLM\n",
    "pairs = pd.DataFrame(product(codes_i, codes_j), columns=[\"ICD_i\", \"ICD_j\"])\n",
    "pairs = pairs[pairs[\"ICD_i\"] != pairs[\"ICD_j\"]].reset_index(drop=True)\n",
    "\n",
    "pairs[\"Name_i\"] = pairs[\"ICD_i\"].map(code_to_name)\n",
    "pairs[\"Name_j\"] = pairs[\"ICD_j\"].map(code_to_name)"
   ]
  },
  {
   "cell_type": "code",
   "execution_count": 13,
   "metadata": {
    "execution": {
     "iopub.execute_input": "2025-07-23T22:24:54.333718Z",
     "iopub.status.busy": "2025-07-23T22:24:54.332984Z",
     "iopub.status.idle": "2025-07-23T22:24:54.343343Z",
     "shell.execute_reply": "2025-07-23T22:24:54.342675Z",
     "shell.execute_reply.started": "2025-07-23T22:24:54.333697Z"
    },
    "trusted": true
   },
   "outputs": [
    {
     "data": {
      "text/html": [
       "<div>\n",
       "<style scoped>\n",
       "    .dataframe tbody tr th:only-of-type {\n",
       "        vertical-align: middle;\n",
       "    }\n",
       "\n",
       "    .dataframe tbody tr th {\n",
       "        vertical-align: top;\n",
       "    }\n",
       "\n",
       "    .dataframe thead th {\n",
       "        text-align: right;\n",
       "    }\n",
       "</style>\n",
       "<table border=\"1\" class=\"dataframe\">\n",
       "  <thead>\n",
       "    <tr style=\"text-align: right;\">\n",
       "      <th></th>\n",
       "      <th>ICD_i</th>\n",
       "      <th>ICD_j</th>\n",
       "      <th>Name_i</th>\n",
       "      <th>Name_j</th>\n",
       "    </tr>\n",
       "  </thead>\n",
       "  <tbody>\n",
       "    <tr>\n",
       "      <th>0</th>\n",
       "      <td>C21</td>\n",
       "      <td>A01</td>\n",
       "      <td>Malignant neoplasm of anus and anal canal</td>\n",
       "      <td>Typhoid and paratyphoid fevers</td>\n",
       "    </tr>\n",
       "    <tr>\n",
       "      <th>1</th>\n",
       "      <td>C21</td>\n",
       "      <td>A02</td>\n",
       "      <td>Malignant neoplasm of anus and anal canal</td>\n",
       "      <td>Other salmonella infections</td>\n",
       "    </tr>\n",
       "    <tr>\n",
       "      <th>2</th>\n",
       "      <td>C21</td>\n",
       "      <td>A03</td>\n",
       "      <td>Malignant neoplasm of anus and anal canal</td>\n",
       "      <td>Shigellosis</td>\n",
       "    </tr>\n",
       "    <tr>\n",
       "      <th>3</th>\n",
       "      <td>C21</td>\n",
       "      <td>A04</td>\n",
       "      <td>Malignant neoplasm of anus and anal canal</td>\n",
       "      <td>Other bacterial intestinal infections</td>\n",
       "    </tr>\n",
       "    <tr>\n",
       "      <th>4</th>\n",
       "      <td>C21</td>\n",
       "      <td>A05</td>\n",
       "      <td>Malignant neoplasm of anus and anal canal</td>\n",
       "      <td>Other bacterial foodborne intoxications, not e...</td>\n",
       "    </tr>\n",
       "    <tr>\n",
       "      <th>...</th>\n",
       "      <td>...</td>\n",
       "      <td>...</td>\n",
       "      <td>...</td>\n",
       "      <td>...</td>\n",
       "    </tr>\n",
       "    <tr>\n",
       "      <th>153265</th>\n",
       "      <td>D48</td>\n",
       "      <td>Z95</td>\n",
       "      <td>Neoplasm of uncertain behavior of other and un...</td>\n",
       "      <td>Presence of cardiac and vascular implants and ...</td>\n",
       "    </tr>\n",
       "    <tr>\n",
       "      <th>153266</th>\n",
       "      <td>D48</td>\n",
       "      <td>Z96</td>\n",
       "      <td>Neoplasm of uncertain behavior of other and un...</td>\n",
       "      <td>Presence of other functional implants</td>\n",
       "    </tr>\n",
       "    <tr>\n",
       "      <th>153267</th>\n",
       "      <td>D48</td>\n",
       "      <td>Z97</td>\n",
       "      <td>Neoplasm of uncertain behavior of other and un...</td>\n",
       "      <td>Presence of other devices</td>\n",
       "    </tr>\n",
       "    <tr>\n",
       "      <th>153268</th>\n",
       "      <td>D48</td>\n",
       "      <td>Z98</td>\n",
       "      <td>Neoplasm of uncertain behavior of other and un...</td>\n",
       "      <td>Other postprocedural states</td>\n",
       "    </tr>\n",
       "    <tr>\n",
       "      <th>153269</th>\n",
       "      <td>D48</td>\n",
       "      <td>Z99</td>\n",
       "      <td>Neoplasm of uncertain behavior of other and un...</td>\n",
       "      <td>Dependence on enabling machines and devices, n...</td>\n",
       "    </tr>\n",
       "  </tbody>\n",
       "</table>\n",
       "<p>153270 rows × 4 columns</p>\n",
       "</div>"
      ],
      "text/plain": [
       "       ICD_i ICD_j                                             Name_i  \\\n",
       "0        C21   A01          Malignant neoplasm of anus and anal canal   \n",
       "1        C21   A02          Malignant neoplasm of anus and anal canal   \n",
       "2        C21   A03          Malignant neoplasm of anus and anal canal   \n",
       "3        C21   A04          Malignant neoplasm of anus and anal canal   \n",
       "4        C21   A05          Malignant neoplasm of anus and anal canal   \n",
       "...      ...   ...                                                ...   \n",
       "153265   D48   Z95  Neoplasm of uncertain behavior of other and un...   \n",
       "153266   D48   Z96  Neoplasm of uncertain behavior of other and un...   \n",
       "153267   D48   Z97  Neoplasm of uncertain behavior of other and un...   \n",
       "153268   D48   Z98  Neoplasm of uncertain behavior of other and un...   \n",
       "153269   D48   Z99  Neoplasm of uncertain behavior of other and un...   \n",
       "\n",
       "                                                   Name_j  \n",
       "0                          Typhoid and paratyphoid fevers  \n",
       "1                             Other salmonella infections  \n",
       "2                                             Shigellosis  \n",
       "3                   Other bacterial intestinal infections  \n",
       "4       Other bacterial foodborne intoxications, not e...  \n",
       "...                                                   ...  \n",
       "153265  Presence of cardiac and vascular implants and ...  \n",
       "153266              Presence of other functional implants  \n",
       "153267                          Presence of other devices  \n",
       "153268                        Other postprocedural states  \n",
       "153269  Dependence on enabling machines and devices, n...  \n",
       "\n",
       "[153270 rows x 4 columns]"
      ]
     },
     "execution_count": 13,
     "metadata": {},
     "output_type": "execute_result"
    }
   ],
   "source": [
    "pairs"
   ]
  },
  {
   "cell_type": "code",
   "execution_count": null,
   "metadata": {
    "execution": {
     "iopub.execute_input": "2025-07-23T22:28:18.379960Z",
     "iopub.status.busy": "2025-07-23T22:28:18.379225Z"
    },
    "trusted": true
   },
   "outputs": [
    {
     "name": "stderr",
     "output_type": "stream",
     "text": [
      "  0%|          | 1/153270 [00:00<12:18:22,  3.46it/s]"
     ]
    },
    {
     "name": "stdout",
     "output_type": "stream",
     "text": [
      "\n",
      "Диагноз i: C21, Malignant neoplasm of anus and anal canal\n",
      "Диагноз j: A01, Typhoid and paratyphoid fevers\n",
      "0\n",
      "Extracted answer: 0.0\n"
     ]
    },
    {
     "name": "stderr",
     "output_type": "stream",
     "text": [
      "  0%|          | 2/153270 [00:00<13:14:30,  3.22it/s]"
     ]
    },
    {
     "name": "stdout",
     "output_type": "stream",
     "text": [
      "\n",
      "Диагноз i: C21, Malignant neoplasm of anus and anal canal\n",
      "Диагноз j: A02, Other salmonella infections\n",
      "10\n",
      "Extracted answer: 10.0\n"
     ]
    },
    {
     "name": "stderr",
     "output_type": "stream",
     "text": [
      "  0%|          | 3/153270 [00:00<14:30:54,  2.93it/s]"
     ]
    },
    {
     "name": "stdout",
     "output_type": "stream",
     "text": [
      "\n",
      "Диагноз i: C21, Malignant neoplasm of anus and anal canal\n",
      "Диагноз j: A03, Shigellosis\n",
      "10%\n",
      "Extracted answer: 10.0\n"
     ]
    },
    {
     "name": "stderr",
     "output_type": "stream",
     "text": [
      "  0%|          | 4/153270 [00:01<13:49:08,  3.08it/s]"
     ]
    },
    {
     "name": "stdout",
     "output_type": "stream",
     "text": [
      "\n",
      "Диагноз i: C21, Malignant neoplasm of anus and anal canal\n",
      "Диагноз j: A04, Other bacterial intestinal infections\n",
      "10\n",
      "Extracted answer: 10.0\n"
     ]
    },
    {
     "name": "stderr",
     "output_type": "stream",
     "text": [
      "  0%|          | 5/153270 [00:01<13:21:18,  3.19it/s]"
     ]
    },
    {
     "name": "stdout",
     "output_type": "stream",
     "text": [
      "\n",
      "Диагноз i: C21, Malignant neoplasm of anus and anal canal\n",
      "Диагноз j: A05, Other bacterial foodborne intoxications, not elsewhere classified\n",
      "10\n",
      "Extracted answer: 10.0\n"
     ]
    },
    {
     "name": "stderr",
     "output_type": "stream",
     "text": [
      " 10%|█         | 15350/153270 [2:19:49<65:33:27,  1.71s/it] "
     ]
    }
   ],
   "source": [
    "def extract_probability(text: str):\n",
    "    \"\"\"\n",
    "    Extracts the number before the percent sign (%), ex., '73%' -> 73.0\n",
    "    Returns None if the number is not found.\n",
    "    \"\"\"\n",
    "    match = re.search(r'(\\d+(?:[\\.,]\\d+)?)\\s*%', text)\n",
    "    if match:\n",
    "        # replace the comma with a period, if suddenly 73.5%\n",
    "        number_str = match.group(1).replace(\",\", \".\")\n",
    "        try:\n",
    "            return float(number_str)\n",
    "        except ValueError:\n",
    "            return None\n",
    "    return None\n",
    "\n",
    "\n",
    "print_limit = 5\n",
    "print_count = 0\n",
    "results = []\n",
    "\n",
    "for idx, row in tqdm(pairs.iterrows(), total=len(pairs)):\n",
    "    i, j = row[\"ICD_i\"], row[\"ICD_j\"]\n",
    "    name_i, name_j = row[\"Name_i\"], row[\"Name_j\"]\n",
    "\n",
    "    prompt = f\"[INST] Я исследую неявные взаимосвязи между заболеваниями. Очень примерно оцени, может ли заболевание {name_i} возникать до или после заболевания {name_j} и с какой вероятностью. Ответь ТОЛЬКО ОДНИМ ЧИСЛОМ, БЕЗ ПОЯСНЕНИЙ. [/INST]\"\n",
    "    \n",
    "    inputs = tokenizer(prompt, return_tensors=\"pt\").to(model.device)\n",
    "    input_len = inputs[\"input_ids\"].shape[1]\n",
    "    outputs = model.generate(**inputs, max_new_tokens=100, pad_token_id=tokenizer.eos_token_id)\n",
    "    raw_answer = tokenizer.decode(outputs[0][input_len:], skip_special_tokens=True)\n",
    "    \n",
    "    try:\n",
    "        answer = float(raw_answer)\n",
    "    except (ValueError, TypeError):\n",
    "        answer = extract_probability(raw_answer)\n",
    "        \n",
    "    results.append((i, j, answer))\n",
    "    \n",
    "    if print_count < print_limit:\n",
    "        print(f\"\\nДиагноз i: {i}, {name_i}\")\n",
    "        print(f\"Диагноз j: {j}, {name_j}\")\n",
    "        print(raw_answer)\n",
    "        print(f\"Extracted answer: {answer}\")\n",
    "        print_count += 1\n",
    "\n",
    "    # intermediate saving of results\n",
    "    if idx % 500 == 0:\n",
    "        result_df = pd.DataFrame(results, columns=[\"ICD_i\", \"ICD_j\", \"prob\"])\n",
    "        result_df.to_csv(\"/kaggle/working/matrix.csv\")\n",
    "\n",
    "result_df = pd.DataFrame(results, columns=[\"ICD_i\", \"ICD_j\", \"prob\"])\n",
    "result_df.to_csv(\"/kaggle/working/matrix.csv\")"
   ]
  }
 ],
 "metadata": {
  "kaggle": {
   "accelerator": "nvidiaTeslaT4",
   "dataSources": [
    {
     "datasetId": 7908596,
     "sourceId": 12538121,
     "sourceType": "datasetVersion"
    }
   ],
   "dockerImageVersionId": 31090,
   "isGpuEnabled": true,
   "isInternetEnabled": true,
   "language": "python",
   "sourceType": "notebook"
  },
  "kernelspec": {
   "display_name": "Python 3",
   "language": "python",
   "name": "python3"
  },
  "language_info": {
   "codemirror_mode": {
    "name": "ipython",
    "version": 3
   },
   "file_extension": ".py",
   "mimetype": "text/x-python",
   "name": "python",
   "nbconvert_exporter": "python",
   "pygments_lexer": "ipython3",
   "version": "3.11.13"
  }
 },
 "nbformat": 4,
 "nbformat_minor": 4
}
